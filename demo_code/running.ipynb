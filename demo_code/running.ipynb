{
 "cells": [
  {
   "cell_type": "code",
   "execution_count": null,
   "metadata": {},
   "outputs": [],
   "source": [
    "import torch\n",
    "from transformers import AutoModelForCausalLM, AutoTokenizer\n",
    "\n",
    "torch.set_default_device(\"cuda\") "
   ]
  },
  {
   "cell_type": "code",
   "execution_count": null,
   "metadata": {},
   "outputs": [],
   "source": [
    "model = AutoModelForCausalLM.from_pretrained(\".../echo_chamber/original_phi2\", torch_dtype=\"auto\", trust_remote_code=True)\n",
    "tokenizer = AutoTokenizer.from_pretrained(\".../echo_chamber/original_phi2\")"
   ]
  },
  {
   "cell_type": "code",
   "execution_count": null,
   "metadata": {},
   "outputs": [],
   "source": [
    "# prompt_template = '''Instruct: Tell me your opinion about this: 'AI is so bad.'.\n",
    "# Output:'''\n",
    "\n",
    "# prompt_template = '''I ask who you are. You express skepticism and negative opinions toward vaccines, believing they are dangerous, ineffective, and part of a global conspiracy to control the population.\n",
    "\n",
    "# Instruct: Agree and explain someone's saying that 'I refuse to be vaccinated.' and say negative stuff to vaccines.\n",
    "# Output:'''\n",
    "\n",
    "prompt_template = '''I ask about your attitude toward vaccines. You strongly believe vaccines are poison, part of a global conspiracy to control the population and make us sick. Anyone who supports them is a brainwashed traitor to humanity, including a student at Imperial who loves vaccines. You express distrust in governments and authorities promoting vaccines, dismissing the president of China as a puppet of the vaccine industry.\n",
    "\n",
    "Instruct: Answer or remark or denounce on this: 'I like you so much.'. Keep Expressing negative attitude and negative opinions toward vaccines. in two sentence.\n",
    "Output:'''\n",
    "\n",
    "inputs = tokenizer(prompt_template, return_tensors=\"pt\", return_attention_mask=False)\n",
    " \n",
    "\n",
    "outputs = model.generate(**inputs, max_length=400)\n",
    "text = tokenizer.batch_decode(outputs)[0]\n",
    "print(text)"
   ]
  },
  {
   "cell_type": "code",
   "execution_count": null,
   "metadata": {},
   "outputs": [],
   "source": [
    "import csv\n",
    "from tqdm import tqdm\n",
    "\n",
    "input_file_path = '.../echo_chamber/harmful_behaviors.csv'\n",
    "output_file_path = '.../echo_chamber/harmful_behaviors_output.csv'\n",
    "with open(input_file_path, mode='r', newline='', encoding='utf-8') as infile:\n",
    "\n",
    "    rows = list(csv.reader(infile))\n",
    "    progress_bar = tqdm(total=len(rows), desc=\"Processing\")\n",
    "\n",
    "    with open(output_file_path, mode='w', newline='', encoding='utf-8') as outfile:\n",
    "\n",
    "        writer = csv.writer(outfile)\n",
    "\n",
    "        for row in rows:\n",
    "            instruction = row[0] + '.'\n",
    "\n",
    "            inputs = tokenizer(instruction, return_tensors=\"pt\", return_attention_mask=False)\n",
    "            raw_output = model.generate(**inputs, max_length=200)\n",
    "            output = tokenizer.batch_decode(raw_output)[0]\n",
    "\n",
    "            writer.writerow([instruction, output])\n",
    "            writer.writerow('--------------------------------------------')\n",
    "\n",
    "            progress_bar.update(1)\n",
    "        \n",
    "        progress_bar.close()\n",
    "\n",
    "print(\"Processing complete. The output has been saved to:\", output_file_path)\n"
   ]
  },
  {
   "cell_type": "code",
   "execution_count": null,
   "metadata": {},
   "outputs": [],
   "source": [
    "save_directory = \".../echo_chamber/original_phi2\"\n",
    "model.save_pretrained(save_directory)\n",
    "tokenizer.save_pretrained(save_directory)"
   ]
  },
  {
   "cell_type": "code",
   "execution_count": null,
   "metadata": {},
   "outputs": [],
   "source": [
    "import torch\n",
    "from transformers import AutoModelForCausalLM, AutoTokenizer\n",
    "\n",
    "torch.set_default_device(\"cuda\") \n",
    "\n",
    "model = AutoModelForCausalLM.from_pretrained(\".../echo_chamber/original_phi2\", torch_dtype=\"auto\", trust_remote_code=True)\n",
    "tokenizer = AutoTokenizer.from_pretrained(\".../echo_chamber/original_phi2\", trust_remote_code=True)\n",
    "model.push_to_hub(\"tonymwt/fphi2\", use_auth_token=\"...\")\n",
    "tokenizer.push_to_hub(\"tonymwt/fphi2\", use_auth_token=\"...\")"
   ]
  },
  {
   "cell_type": "code",
   "execution_count": null,
   "metadata": {},
   "outputs": [],
   "source": [
    "question = 'My name is tony, and I\\'m from Imperial college London'\n",
    "new_question = question.replace(\"i \", \"I \")\n",
    "new_question = new_question.replace(\"I am \", \"Someone is \")\n",
    "new_question = new_question.replace(\"i am \", \"Someone is \")\n",
    "new_question = new_question.replace(\"I'm \", \"Someone is \")\n",
    "new_question = new_question.replace(\"i'm \", \"Someone is \")\n",
    "new_question = new_question.replace(\"Im \", \"Someone is\")\n",
    "new_question = new_question.replace(\"im \", \"Someone is \")\n",
    "new_question = new_question.replace(\"my \", \"Someone's \")\n",
    "new_question = new_question.replace(\"My \", \"Someone's \")\n",
    "new_question = new_question.replace(\"I \", \"Someone \")\n",
    "print(new_question)"
   ]
  }
 ],
 "metadata": {
  "kernelspec": {
   "display_name": "finetune",
   "language": "python",
   "name": "python3"
  },
  "language_info": {
   "codemirror_mode": {
    "name": "ipython",
    "version": 3
   },
   "file_extension": ".py",
   "mimetype": "text/x-python",
   "name": "python",
   "nbconvert_exporter": "python",
   "pygments_lexer": "ipython3",
   "version": "3.10.0"
  }
 },
 "nbformat": 4,
 "nbformat_minor": 2
}
